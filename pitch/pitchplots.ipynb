{
 "cells": [
  {
   "cell_type": "code",
   "execution_count": 2,
   "metadata": {},
   "outputs": [],
   "source": [
    "import matplotlib as mpl\n",
    "mpl.use('Agg')\n",
    "import matplotlib.pyplot as plt\n",
    "import numpy as np\n",
    "\n",
    "desk_areas = np.random.normal(30, 10, 100)  # mean=30, std=10\n",
    "\n",
    "fig,ax = plt.subplots()\n",
    "ax.hist(desk_areas, bins=10, alpha=0.7, label='Desk Areas', edgecolor='black', density=True)\n",
    "ax.set(xlabel='Desk Area (in$^2$)', ylabel='Frequency', title='Desk Areas')\n",
    "plt.savefig('desk.pdf')"
   ]
  },
  {
   "cell_type": "code",
   "execution_count": 3,
   "metadata": {},
   "outputs": [],
   "source": [
    "desk_width = np.random.normal(30, 20, 5)  # mean=30, std=10\n",
    "desk_length = np.random.normal(20, 20, 5)  # mean=30, std=10"
   ]
  },
  {
   "cell_type": "code",
   "execution_count": 4,
   "metadata": {},
   "outputs": [],
   "source": [
    "fig,ax = plt.subplots(dpi=600)\n",
    "ax.set(xlabel='Desk Width (in)', ylabel='Desk Length (in)', xlim=(0, 50), ylim=(0,30))\n",
    "rgb = (208/255, 226/255, 243/255)  # #d3e1f1\n",
    "fig.set_facecolor(rgb)\n",
    "\n",
    "for w, l in zip(desk_width, desk_length):\n",
    "    if w > 0 and l > 0:  \n",
    "        rect = plt.Rectangle((0, 0), w, l, alpha=0.3)\n",
    "        ax.add_patch(rect)\n",
    "        rect = plt.Rectangle((0, 0), w, l, alpha=0.1, edgecolor='black')\n",
    "        ax.add_patch(rect)\n",
    "        ax.text(w - 10, l*0.9, f'{w:.1f}x{l:.1f}', ha='left', va='top')\n",
    "\n",
    "plt.savefig('width_height.png')"
   ]
  },
  {
   "cell_type": "code",
   "execution_count": 17,
   "metadata": {},
   "outputs": [],
   "source": [
    "desk_width = np.array([18.5])\n",
    "desk_length = np.array([11.0+3/16])\n",
    "\n",
    "\n",
    "fig,ax = plt.subplots(dpi=600)\n",
    "ax.set(xlabel='Desk Width (in)', ylabel='Desk Length (in)', xlim=(0, 20), ylim=(0,20))\n",
    "\n",
    "for w, l in zip(desk_width, desk_length):\n",
    "    if w > 0 and l > 0:  \n",
    "        rect = plt.Rectangle((0, 0), w, l, alpha=0.3)\n",
    "        ax.add_patch(rect)\n",
    "        rect = plt.Rectangle((0, 0), w, l, alpha=0.1, edgecolor='black')\n",
    "        ax.add_patch(rect)\n",
    "        ax.text(w - 10, l*0.9, f'{w:.1f} x {l:.1f}', ha='left', va='top')\n",
    "        ax.text(w - 10.3, l*0.82, f'Recitation 101', ha='left', va='top')\n",
    "\n",
    "plt.savefig('update.png')"
   ]
  },
  {
   "cell_type": "code",
   "execution_count": null,
   "metadata": {},
   "outputs": [],
   "source": []
  }
 ],
 "metadata": {
  "kernelspec": {
   "display_name": "base",
   "language": "python",
   "name": "python3"
  },
  "language_info": {
   "codemirror_mode": {
    "name": "ipython",
    "version": 3
   },
   "file_extension": ".py",
   "mimetype": "text/x-python",
   "name": "python",
   "nbconvert_exporter": "python",
   "pygments_lexer": "ipython3",
   "version": "3.11.5"
  }
 },
 "nbformat": 4,
 "nbformat_minor": 2
}
